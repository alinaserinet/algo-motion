{
 "cells": [
  {
   "cell_type": "code",
   "execution_count": 1,
   "id": "0abba521-8837-4dd6-a994-214fc2f5b377",
   "metadata": {},
   "outputs": [],
   "source": [
    "import numpy as np\n",
    "import pandas as pd\n",
    "import os"
   ]
  },
  {
   "cell_type": "code",
   "execution_count": 2,
   "id": "7af07d34-7470-4a02-aa21-4f515acd77f7",
   "metadata": {},
   "outputs": [],
   "source": [
    "def promising(col, i):\n",
    "    for k in range(i):\n",
    "        if col[i] == col[k] or abs(col[i] - col[k]) == abs(i - k):\n",
    "            return False\n",
    "    return True\n",
    "\n",
    "def estimate_n_queens(n):\n",
    "    col = np.zeros(n, dtype=int)\n",
    "    i = 0\n",
    "    numnodes = 1\n",
    "    m = 1\n",
    "    mprod = 1\n",
    "    \n",
    "    while m != 0 and i != n:\n",
    "        mprod = mprod * m\n",
    "        numnodes = numnodes + mprod * n \n",
    "        i += 1\n",
    "        m = 0\n",
    "        prom_children = []\n",
    "\n",
    "        for j in range(n):\n",
    "            col[i-1] = j\n",
    "            if promising(col, i-1):\n",
    "                m += 1\n",
    "                prom_children.append(j)\n",
    "        \n",
    "        if m != 0:\n",
    "            j = np.random.choice(prom_children)\n",
    "            col[i-1] = j\n",
    "\n",
    "    return numnodes"
   ]
  },
  {
   "cell_type": "code",
   "execution_count": 3,
   "id": "a63ddbbe-c0fc-4aeb-a701-20848469e74f",
   "metadata": {},
   "outputs": [],
   "source": [
    "def run_estimate(n_range=(4, 20), times=30, file_path=\"monte-carlo-nqueens.csv\"):\n",
    "    csv_file_path = file_path\n",
    "    file_exists = os.path.isfile(csv_file_path)\n",
    "    for n in range(n_range[0], n_range[1] + 1):\n",
    "        for _ in range(times):\n",
    "            estimated = estimate_n_queens(n)\n",
    "            df = pd.DataFrame([{\n",
    "                'n': n,\n",
    "                'estimate': estimated\n",
    "            }])\n",
    "            df.to_csv(csv_file_path, mode='a', index=False, header=not file_exists)\n",
    "            file_exists = True\n",
    "    return csv_file_path"
   ]
  },
  {
   "cell_type": "code",
   "execution_count": 4,
   "id": "b3dca22c-9da9-4465-97e2-63d8f65b0dd0",
   "metadata": {},
   "outputs": [],
   "source": [
    "result_file_path = run_estimate(times=1000)"
   ]
  },
  {
   "cell_type": "code",
   "execution_count": 5,
   "id": "70274e3f-729c-484a-a3c3-b21b0295840c",
   "metadata": {},
   "outputs": [
    {
     "data": {
      "text/html": [
       "<div>\n",
       "<style scoped>\n",
       "    .dataframe tbody tr th:only-of-type {\n",
       "        vertical-align: middle;\n",
       "    }\n",
       "\n",
       "    .dataframe tbody tr th {\n",
       "        vertical-align: top;\n",
       "    }\n",
       "\n",
       "    .dataframe thead th {\n",
       "        text-align: right;\n",
       "    }\n",
       "</style>\n",
       "<table border=\"1\" class=\"dataframe\">\n",
       "  <thead>\n",
       "    <tr style=\"text-align: right;\">\n",
       "      <th></th>\n",
       "      <th>n</th>\n",
       "      <th>estimate</th>\n",
       "    </tr>\n",
       "  </thead>\n",
       "  <tbody>\n",
       "    <tr>\n",
       "      <th>0</th>\n",
       "      <td>4</td>\n",
       "      <td>53</td>\n",
       "    </tr>\n",
       "    <tr>\n",
       "      <th>1</th>\n",
       "      <td>4</td>\n",
       "      <td>53</td>\n",
       "    </tr>\n",
       "    <tr>\n",
       "      <th>2</th>\n",
       "      <td>4</td>\n",
       "      <td>53</td>\n",
       "    </tr>\n",
       "    <tr>\n",
       "      <th>3</th>\n",
       "      <td>4</td>\n",
       "      <td>85</td>\n",
       "    </tr>\n",
       "    <tr>\n",
       "      <th>4</th>\n",
       "      <td>4</td>\n",
       "      <td>53</td>\n",
       "    </tr>\n",
       "    <tr>\n",
       "      <th>...</th>\n",
       "      <td>...</td>\n",
       "      <td>...</td>\n",
       "    </tr>\n",
       "    <tr>\n",
       "      <th>16995</th>\n",
       "      <td>20</td>\n",
       "      <td>204911580956821</td>\n",
       "    </tr>\n",
       "    <tr>\n",
       "      <th>16996</th>\n",
       "      <td>20</td>\n",
       "      <td>63848585210421</td>\n",
       "    </tr>\n",
       "    <tr>\n",
       "      <th>16997</th>\n",
       "      <td>20</td>\n",
       "      <td>53921228293221</td>\n",
       "    </tr>\n",
       "    <tr>\n",
       "      <th>16998</th>\n",
       "      <td>20</td>\n",
       "      <td>23869889468821</td>\n",
       "    </tr>\n",
       "    <tr>\n",
       "      <th>16999</th>\n",
       "      <td>20</td>\n",
       "      <td>113422658809221</td>\n",
       "    </tr>\n",
       "  </tbody>\n",
       "</table>\n",
       "<p>17000 rows × 2 columns</p>\n",
       "</div>"
      ],
      "text/plain": [
       "        n         estimate\n",
       "0       4               53\n",
       "1       4               53\n",
       "2       4               53\n",
       "3       4               85\n",
       "4       4               53\n",
       "...    ..              ...\n",
       "16995  20  204911580956821\n",
       "16996  20   63848585210421\n",
       "16997  20   53921228293221\n",
       "16998  20   23869889468821\n",
       "16999  20  113422658809221\n",
       "\n",
       "[17000 rows x 2 columns]"
      ]
     },
     "execution_count": 5,
     "metadata": {},
     "output_type": "execute_result"
    }
   ],
   "source": [
    "df = pd.read_csv(result_file_path)\n",
    "df"
   ]
  },
  {
   "cell_type": "code",
   "execution_count": 6,
   "id": "1f443fc8-73ef-47b9-8f39-4e31f1513b01",
   "metadata": {},
   "outputs": [
    {
     "data": {
      "text/plain": [
       "n\n",
       "4     1000\n",
       "13    1000\n",
       "19    1000\n",
       "18    1000\n",
       "17    1000\n",
       "16    1000\n",
       "15    1000\n",
       "14    1000\n",
       "12    1000\n",
       "5     1000\n",
       "11    1000\n",
       "10    1000\n",
       "9     1000\n",
       "8     1000\n",
       "7     1000\n",
       "6     1000\n",
       "20    1000\n",
       "Name: count, dtype: int64"
      ]
     },
     "execution_count": 6,
     "metadata": {},
     "output_type": "execute_result"
    }
   ],
   "source": [
    "df['n'].value_counts()"
   ]
  },
  {
   "cell_type": "code",
   "execution_count": 7,
   "id": "54383e95-06df-470b-844b-2740b628cb47",
   "metadata": {},
   "outputs": [
    {
     "data": {
      "text/plain": [
       "n\n",
       "4     6.093600e+01\n",
       "5     2.199750e+02\n",
       "6     9.016360e+02\n",
       "7     3.580982e+03\n",
       "8     1.555287e+04\n",
       "9     7.235661e+04\n",
       "10    3.516471e+05\n",
       "11    1.784101e+06\n",
       "12    1.032144e+07\n",
       "13    5.870294e+07\n",
       "14    3.797167e+08\n",
       "15    2.502189e+09\n",
       "16    1.809241e+10\n",
       "17    1.460908e+11\n",
       "18    1.024789e+12\n",
       "19    8.958360e+12\n",
       "20    7.634461e+13\n",
       "Name: estimate, dtype: float64"
      ]
     },
     "execution_count": 7,
     "metadata": {},
     "output_type": "execute_result"
    }
   ],
   "source": [
    "means = df.groupby('n')['estimate'].mean()\n",
    "means"
   ]
  }
 ],
 "metadata": {
  "kernelspec": {
   "display_name": "Python 3 (ipykernel)",
   "language": "python",
   "name": "python3"
  },
  "language_info": {
   "codemirror_mode": {
    "name": "ipython",
    "version": 3
   },
   "file_extension": ".py",
   "mimetype": "text/x-python",
   "name": "python",
   "nbconvert_exporter": "python",
   "pygments_lexer": "ipython3",
   "version": "3.12.3"
  }
 },
 "nbformat": 4,
 "nbformat_minor": 5
}
