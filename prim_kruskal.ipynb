{
 "cells": [
  {
   "cell_type": "code",
   "execution_count": 1,
   "id": "cf788b16-dad4-4e6d-a45a-c2bf89a6ba0b",
   "metadata": {},
   "outputs": [],
   "source": [
    "import numpy as np\n",
    "import time\n",
    "import matplotlib.pyplot as plt"
   ]
  },
  {
   "cell_type": "code",
   "execution_count": 2,
   "id": "a6877b39-31de-4827-ba4a-857e919af6a4",
   "metadata": {},
   "outputs": [],
   "source": [
    "def prim(graph):\n",
    "    n = np.shape(graph)[0]\n",
    "    nearest = np.zeros(n, dtype=np.int64)\n",
    "    distances = graph[0, :].copy() if graph.dtype.kind != 'u' else graph[0, :].copy().astype(np.int64)\n",
    "    min_span_tree = np.zeros((n, n), dtype=graph.dtype)\n",
    "    min_total_weight = 0\n",
    "\n",
    "    for _ in range(n - 1):\n",
    "        min_ = np.Inf\n",
    "        v_near = -1\n",
    "        for i in range(1, n):\n",
    "            if 0 <= distances[i] < min_:\n",
    "                min_ = distances[i]\n",
    "                v_near = i\n",
    "        min_span_tree[v_near, nearest[v_near]] = graph[v_near, nearest[v_near]]\n",
    "        min_span_tree[nearest[v_near], v_near] = graph[nearest[v_near], v_near]\n",
    "        min_total_weight += graph[nearest[v_near], v_near]\n",
    "\n",
    "        distances[v_near] = -1\n",
    "        for i in range(1, n):\n",
    "            if graph[i, v_near] < distances[i]:\n",
    "                distances[i] = graph[i, v_near]\n",
    "                nearest[i] = v_near\n",
    "    return min_span_tree, min_total_weight"
   ]
  },
  {
   "cell_type": "code",
   "execution_count": 3,
   "id": "b9697846-4530-41da-8b0f-bfb3cddd3320",
   "metadata": {},
   "outputs": [
    {
     "data": {
      "text/plain": [
       "array([[ 0.,  1.,  3., inf, inf],\n",
       "       [ 1.,  0.,  3.,  6., inf],\n",
       "       [ 3.,  3.,  0.,  4.,  2.],\n",
       "       [inf,  6.,  4.,  0.,  5.],\n",
       "       [inf, inf,  2.,  5.,  0.]])"
      ]
     },
     "execution_count": 3,
     "metadata": {},
     "output_type": "execute_result"
    }
   ],
   "source": [
    "M = np.array([[0, 1, 3, np.inf, np.inf], [1, 0, 3, 6, np.inf], [3, 3, 0, 4, 2], [np.inf, 6, 4, 0, 5], [np.inf, np.inf, 2, 5, 0]])\n",
    "M"
   ]
  },
  {
   "cell_type": "code",
   "execution_count": 4,
   "id": "a0d8314f-796b-45f4-9dfd-eb3c17acbbbe",
   "metadata": {},
   "outputs": [
    {
     "data": {
      "text/plain": [
       "(array([[0., 1., 3., 0., 0.],\n",
       "        [1., 0., 0., 0., 0.],\n",
       "        [3., 0., 0., 4., 2.],\n",
       "        [0., 0., 4., 0., 0.],\n",
       "        [0., 0., 2., 0., 0.]]),\n",
       " 10.0)"
      ]
     },
     "execution_count": 4,
     "metadata": {},
     "output_type": "execute_result"
    }
   ],
   "source": [
    "prim(M)"
   ]
  },
  {
   "cell_type": "code",
   "execution_count": 5,
   "id": "25898f4d-7cb3-41ce-a7ef-2b36a1a87bb1",
   "metadata": {},
   "outputs": [],
   "source": [
    "class UnionFind:\n",
    "    def __init__(self, n):\n",
    "        self.parent = np.arange(n)\n",
    "        self.rank = np.zeros(n, dtype=int)\n",
    "\n",
    "    def find(self, u):\n",
    "        if self.parent[u] != u:\n",
    "            self.parent[u] = self.find(self.parent[u])\n",
    "        return self.parent[u]\n",
    "\n",
    "    def union(self, u, v):\n",
    "        root_u = self.find(u)\n",
    "        root_v = self.find(v)\n",
    "        if root_u != root_v:\n",
    "            if self.rank[root_u] > self.rank[root_v]:\n",
    "                self.parent[root_v] = root_u\n",
    "            elif self.rank[root_u] < self.rank[root_v]:\n",
    "                self.parent[root_u] = root_v\n",
    "            else:\n",
    "                self.parent[root_v] = root_u\n",
    "                self.rank[root_u] += 1"
   ]
  },
  {
   "cell_type": "code",
   "execution_count": 6,
   "id": "725ba061-776f-48f4-9319-3ee9ccf4f869",
   "metadata": {},
   "outputs": [],
   "source": [
    "def kruskal(graph):\n",
    "    n = graph.shape[0]\n",
    "    edges = []\n",
    "\n",
    "    # Extract edges from the adjacency matrix\n",
    "    for i in range(n):\n",
    "        for j in range(i + 1, n):\n",
    "            if graph[i, j] != 0:\n",
    "                edges.append((i, j, graph[i, j]))\n",
    "\n",
    "    # Sort edges by weight\n",
    "    edges = sorted(edges, key=lambda x: x[2])\n",
    "    uf = UnionFind(n)\n",
    "    mst = []\n",
    "    mst_weight = 0\n",
    "\n",
    "    for u, v, weight in edges:\n",
    "        if uf.find(u) != uf.find(v):\n",
    "            uf.union(u, v)\n",
    "            mst.append((u, v, weight))\n",
    "            mst_weight += weight\n",
    "\n",
    "    return mst, mst_weight"
   ]
  },
  {
   "cell_type": "code",
   "execution_count": 12,
   "id": "b88c7167-8947-4c12-974e-72df1e78b054",
   "metadata": {},
   "outputs": [
    {
     "data": {
      "text/plain": [
       "([(0, 1, 1.0), (2, 4, 2.0), (0, 2, 3.0), (2, 3, 4.0)], 10.0)"
      ]
     },
     "execution_count": 12,
     "metadata": {},
     "output_type": "execute_result"
    }
   ],
   "source": [
    "kruskal(M)"
   ]
  },
  {
   "cell_type": "code",
   "execution_count": 7,
   "id": "5ba75de5-96b7-40a3-ae6e-780f7bd8e3e7",
   "metadata": {},
   "outputs": [],
   "source": [
    "def random_complete_graph(n: int, item_range=(0, 100)):\n",
    "    random_matrix = np.random.randint(item_range[0], item_range[1], (n, n), dtype=np.uint8)\n",
    "    np.fill_diagonal(random_matrix, 0)\n",
    "    return (random_matrix + random_matrix.T) // 2"
   ]
  },
  {
   "cell_type": "code",
   "execution_count": 8,
   "id": "4be86599-46b9-4de1-9f6b-ab578ca34758",
   "metadata": {},
   "outputs": [],
   "source": [
    "def draw_chart(x, y, z, title):\n",
    "    plt.style.use('_mpl-gallery')\n",
    "\n",
    "    sorted_args = np.argsort(x)\n",
    "    x = x[sorted_args]\n",
    "    y = y[sorted_args]\n",
    "    z = z[sorted_args]\n",
    "\n",
    "    fig, ax = plt.subplots(figsize=(18, 4))\n",
    "    \n",
    "    ax.plot(x, y, linewidth=2.0, color='green', label='Prim Algorithm')\n",
    "    ax.plot(x, z, linewidth=2.0, color='red', label='Kruskal Algorithm')\n",
    "\n",
    "    ax.legend()\n",
    "    plt.title(title)\n",
    "    plt.xlabel('nodes count')\n",
    "    plt.ylabel('time (s)')\n",
    "    \n",
    "    plt.show()"
   ]
  },
  {
   "cell_type": "code",
   "execution_count": 13,
   "id": "1c33829d-9a53-4995-844b-1d3dedbfda08",
   "metadata": {},
   "outputs": [],
   "source": [
    "def benchmark(repetitions_count, matrix_size_range = (100, 1000)):\n",
    "    prim_elapsed_times = np.zeros(repetitions_count)\n",
    "    kruskal_elapsed_times = np.zeros(repetitions_count)\n",
    "    graph_sizes = np.zeros(repetitions_count, dtype=np.int16)\n",
    "    \n",
    "    for i in range(repetitions_count):\n",
    "\n",
    "        # generate random complete graph\n",
    "        size = np.random.randint(matrix_size_range[0], matrix_size_range[1], dtype=np.int16)\n",
    "        M = random_complete_graph(size, (1,100))\n",
    "        graph_sizes[i] = size\n",
    "    \n",
    "        # running prim algorithm for complete graph\n",
    "        start_time = time.time()\n",
    "        p_tree, p_weight = prim(M)\n",
    "        end_time = time.time()\n",
    "        elapsed_time = end_time - start_time\n",
    "        prim_elapsed_times[i] = elapsed_time\n",
    "    \n",
    "        # running kruskal algorithm for complete graph\n",
    "        start_time = time.time()\n",
    "        k_tree, k_weight = kruskal(M)\n",
    "        end_time = time.time()\n",
    "        elapsed_time = end_time - start_time\n",
    "        kruskal_elapsed_times[i] = elapsed_time\n",
    "\n",
    "        if (k_weight != p_weight):\n",
    "            print(\"Conflict Weight\")\n",
    "        \n",
    "        is_tree_ok = np.count_nonzero(p_tree) // 2 == size - 1\n",
    "        # print(f'step {i + 1} done, graph size: {size} nodes, {\"OK Tree\" if is_tree_ok else \"Failed Tree\"}, tree weight: {p_weight}')\n",
    "\n",
    "    return graph_sizes, prim_elapsed_times, kruskal_elapsed_times"
   ]
  },
  {
   "cell_type": "code",
   "execution_count": null,
   "id": "ae522a37-1802-4b3b-8c8c-607b78bfaf27",
   "metadata": {},
   "outputs": [],
   "source": [
    "nodes_count, prim_times, kruskal_times = benchmark(100, (100, 2000))\n",
    "draw_chart(nodes_count, prim_times, kruskal_times, \"Complete graph\")"
   ]
  },
  {
   "cell_type": "code",
   "execution_count": null,
   "id": "a73654e2-74ba-4a5f-abd9-e0b5631885b8",
   "metadata": {},
   "outputs": [],
   "source": []
  },
  {
   "cell_type": "code",
   "execution_count": null,
   "id": "61b3a374-e416-452a-bc82-cb613d1b00c3",
   "metadata": {},
   "outputs": [],
   "source": []
  }
 ],
 "metadata": {
  "kernelspec": {
   "display_name": "Python 3 (ipykernel)",
   "language": "python",
   "name": "python3"
  },
  "language_info": {
   "codemirror_mode": {
    "name": "ipython",
    "version": 3
   },
   "file_extension": ".py",
   "mimetype": "text/x-python",
   "name": "python",
   "nbconvert_exporter": "python",
   "pygments_lexer": "ipython3",
   "version": "3.12.3"
  }
 },
 "nbformat": 4,
 "nbformat_minor": 5
}
