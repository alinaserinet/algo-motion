{
 "cells": [
  {
   "cell_type": "markdown",
   "id": "696256b4-b469-4ed4-ac92-85115c28f471",
   "metadata": {},
   "source": [
    "<div dir=\"rtl\">\n",
    "    <h5>\n",
    "    <b>سوال:</b><br/>\n",
    "    فرض کنید که برای مسئله زمان بندی با مهلت معین، تعداد k سرویس دهنده وجود دارد.\n",
    "    صورت مسئله و هدف آن را بازنویسی کرده و الگوریتمی برای حل آن ارائه دهید.\n",
    "    </h5>\n",
    "    <hr/>\n",
    "</div>"
   ]
  },
  {
   "cell_type": "markdown",
   "id": "b6070ca9-e578-45ab-b5bc-eb35949cf624",
   "metadata": {},
   "source": [
    "<div dir=\"rtl\">\n",
    "    <b>صورت مسئله:</b><br/>\n",
    "    تعدادی کار داریم که هرکدام دارای مهلت معین و سود مشخصی هستند. از طرفی چند سرویس دهنده که با k تعداد آن‌ها مشخص شده است را در اختیار داریم.\n",
    "    زمان بندی را طوری تعیین کنید که بیشترین تعداد کار در مهلت‌های مشخص شده انجام شوند و درنهایت باعث بیشینه شدن سود نهایی شود.\n",
    "    توجه: در ابتدای فرایند همه کار‌ها وارد سیستم می‌شوند.\n",
    "    <hr/>\n",
    "</div>"
   ]
  },
  {
   "cell_type": "markdown",
   "id": "f21638d7-4aa6-4767-b350-f79e69f0ea70",
   "metadata": {},
   "source": [
    "<div dir=\"rtl\">\n",
    "    <b>ایده حل مسئله با کمک از رویکرد حریصانه:</b><br/>\n",
    "    حل این مسئله با انجام تغییراتی در الگوریتم ارائه شده برای یک سرویس دهنده امکان پذیر است. به این صورت که می‌توان با تغییر رویکرد بررسی feasible بودن مجموعه کارها، به هدف نهایی رسید.\n",
    "    <br/><br/>\n",
    "    برای اینکار به ازای k داده شده امکان انجام همزمان تسک‌ها وجود دارد و در واقع محدودیت‌ها کاهش می‌یابد. کافی است که در زمان بررسی feasible بودن مجموعه‌ها این موضوع را در نظر بگیریم که به اندازه‌ی k امکان انجام همزمان کارها وجود دارد.\n",
    "    <br/><br/>\n",
    "    در واقع می‌توان این راه‌ حل را شکل کلی‌تر الگوریتم مطرح شده در کتاب فرض کرد و با قرار دادن k = 1 به الگوریتم داخل کتاب رسید.\n",
    "    <br/><br/>\n",
    "    پس ابتدا کارها را براساس سودشان مرتب کرده و در هر مرحله چک می‌کنیم که آیا با اضافه شدن کار جدید به یک دنباله امکان‌پذیر می‌رسیم یا خیر. البته در زمان بررسی امکان پذیری k را نیز در نظر خواهیم گرفت.\n",
    "    <hr/>\n",
    "</div>"
   ]
  },
  {
   "cell_type": "markdown",
   "id": "3e0d7763-4364-4fc6-9ae7-d3fa6ba7f577",
   "metadata": {},
   "source": [
    "### Algorithm"
   ]
  },
  {
   "cell_type": "code",
   "execution_count": 1,
   "id": "11fee09f-7d39-4a4a-8b5a-66699655736b",
   "metadata": {},
   "outputs": [],
   "source": [
    "import numpy as np"
   ]
  },
  {
   "cell_type": "code",
   "execution_count": 2,
   "id": "53d7d27d-cd9e-4ba2-9b7b-2e50649ed4d1",
   "metadata": {},
   "outputs": [],
   "source": [
    "def feasible_pos(tasks, new_task, k):\n",
    "    counter = 1\n",
    "    for task in tasks:\n",
    "        if task['deadline'] > new_task['deadline']:\n",
    "            break\n",
    "        counter += 1\n",
    "\n",
    "    if counter > new_task['deadline'] * k:\n",
    "            return -1\n",
    "\n",
    "    for i in range(counter, len(tasks)):\n",
    "        pos = i + 1\n",
    "        # check if add new task, since rest elements shifted to the right, set will be feasible?\n",
    "        if pos + 1 > tasks[i]['deadline'] * k:\n",
    "            return -1\n",
    "            \n",
    "    return counter - 1"
   ]
  },
  {
   "cell_type": "code",
   "execution_count": 3,
   "id": "ae74f9f9-625e-4204-8510-ef352ecd2cf1",
   "metadata": {},
   "outputs": [],
   "source": [
    "def schedule(tasks, k = 1):\n",
    "    # sort tasks desc according to the profit\n",
    "    sorted_tasks = sorted(tasks, key=lambda d: d['profit'], reverse=True)\n",
    "    selected_tasks = []\n",
    "    max_profit = 0\n",
    "    for task in sorted_tasks:\n",
    "        pos = feasible_pos(selected_tasks, task, k)\n",
    "        if pos != -1:\n",
    "            selected_tasks.insert(pos, task)\n",
    "            max_profit += task['profit']\n",
    "    return selected_tasks, max_profit"
   ]
  },
  {
   "cell_type": "code",
   "execution_count": 4,
   "id": "201b26cb-dc67-4800-b669-d97d81e309ae",
   "metadata": {},
   "outputs": [],
   "source": [
    "def grouping_selected_tasks(tasks, k = 1):\n",
    "    sorted_tasks = sorted(tasks, key=lambda d: d['deadline'])\n",
    "    for index, task in enumerate(sorted_tasks):\n",
    "        group_index = (index % k)\n",
    "        task['group'] = group_index + 1"
   ]
  },
  {
   "cell_type": "code",
   "execution_count": 5,
   "id": "0bf3a220-6dc3-4962-8d50-023ff4eec237",
   "metadata": {},
   "outputs": [],
   "source": [
    "tasks = [\n",
    "    {\"id\": 2, \"profit\": 35, \"deadline\": 1},\n",
    "    {\"id\": 4, \"profit\": 25, \"deadline\": 3},\n",
    "    {\"id\": 1, \"profit\": 40, \"deadline\": 3},\n",
    "    {\"id\": 5, \"profit\": 20, \"deadline\": 1},\n",
    "    {\"id\": 7, \"profit\": 10, \"deadline\": 2},\n",
    "    {\"id\": 3, \"profit\": 30, \"deadline\": 1},\n",
    "    {\"id\": 6, \"profit\": 15, \"deadline\": 3},\n",
    "    {\"id\": 8, \"profit\": 17, \"deadline\": 2},\n",
    "]"
   ]
  },
  {
   "cell_type": "code",
   "execution_count": 6,
   "id": "a41192f6-5c3f-4569-981e-9f79134fd12c",
   "metadata": {},
   "outputs": [
    {
     "data": {
      "text/plain": [
       "([{'id': 2, 'profit': 35, 'deadline': 1, 'group': 1},\n",
       "  {'id': 1, 'profit': 40, 'deadline': 3, 'group': 1},\n",
       "  {'id': 4, 'profit': 25, 'deadline': 3, 'group': 1}],\n",
       " 100)"
      ]
     },
     "execution_count": 6,
     "metadata": {},
     "output_type": "execute_result"
    }
   ],
   "source": [
    "k = 1\n",
    "selected, max_profit = schedule(tasks, k)\n",
    "grouping_selected_tasks(selected, k)\n",
    "selected, max_profit"
   ]
  },
  {
   "cell_type": "code",
   "execution_count": 7,
   "id": "5f706198-3ebf-4edd-97db-76eceea96508",
   "metadata": {},
   "outputs": [
    {
     "data": {
      "text/plain": [
       "([{'id': 2, 'profit': 35, 'deadline': 1, 'group': 1},\n",
       "  {'id': 3, 'profit': 30, 'deadline': 1, 'group': 2},\n",
       "  {'id': 8, 'profit': 17, 'deadline': 2, 'group': 1},\n",
       "  {'id': 1, 'profit': 40, 'deadline': 3, 'group': 2},\n",
       "  {'id': 4, 'profit': 25, 'deadline': 3, 'group': 1},\n",
       "  {'id': 6, 'profit': 15, 'deadline': 3, 'group': 2}],\n",
       " 162)"
      ]
     },
     "execution_count": 7,
     "metadata": {},
     "output_type": "execute_result"
    }
   ],
   "source": [
    "k = 2\n",
    "selected, max_profit = schedule(tasks, k)\n",
    "grouping_selected_tasks(selected, k)\n",
    "selected, max_profit"
   ]
  },
  {
   "cell_type": "code",
   "execution_count": 8,
   "id": "f672c603-fd06-4e26-a5db-8b22fb98c707",
   "metadata": {},
   "outputs": [
    {
     "data": {
      "text/plain": [
       "([{'id': 2, 'profit': 35, 'deadline': 1, 'group': 1},\n",
       "  {'id': 3, 'profit': 30, 'deadline': 1, 'group': 2},\n",
       "  {'id': 5, 'profit': 20, 'deadline': 1, 'group': 3},\n",
       "  {'id': 8, 'profit': 17, 'deadline': 2, 'group': 1},\n",
       "  {'id': 7, 'profit': 10, 'deadline': 2, 'group': 2},\n",
       "  {'id': 1, 'profit': 40, 'deadline': 3, 'group': 3},\n",
       "  {'id': 4, 'profit': 25, 'deadline': 3, 'group': 1},\n",
       "  {'id': 6, 'profit': 15, 'deadline': 3, 'group': 2}],\n",
       " 192)"
      ]
     },
     "execution_count": 8,
     "metadata": {},
     "output_type": "execute_result"
    }
   ],
   "source": [
    "k = 3\n",
    "selected, max_profit = schedule(tasks, k)\n",
    "grouping_selected_tasks(selected, k)\n",
    "selected, max_profit"
   ]
  }
 ],
 "metadata": {
  "kernelspec": {
   "display_name": "Python 3 (ipykernel)",
   "language": "python",
   "name": "python3"
  },
  "language_info": {
   "codemirror_mode": {
    "name": "ipython",
    "version": 3
   },
   "file_extension": ".py",
   "mimetype": "text/x-python",
   "name": "python",
   "nbconvert_exporter": "python",
   "pygments_lexer": "ipython3",
   "version": "3.12.3"
  }
 },
 "nbformat": 4,
 "nbformat_minor": 5
}
